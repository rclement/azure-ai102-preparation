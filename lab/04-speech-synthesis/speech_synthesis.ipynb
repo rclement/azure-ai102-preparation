{
 "cells": [
  {
   "cell_type": "markdown",
   "id": "6160a750",
   "metadata": {},
   "source": [
    "# Speech Synthesis\n",
    "\n",
    "> Use Azure Cognite Service Speech to build a simple speech synthesizer!"
   ]
  },
  {
   "cell_type": "markdown",
   "id": "5a257287",
   "metadata": {},
   "source": [
    "## Setup\n",
    "\n",
    "Import Azure specific modules and load Azure Cognitive Services configuration from environment variables:"
   ]
  },
  {
   "cell_type": "code",
   "execution_count": null,
   "id": "c48a7c94",
   "metadata": {},
   "outputs": [],
   "source": [
    "import os\n",
    "\n",
    "from dotenv import load_dotenv\n",
    "from azure.cognitiveservices import speech\n",
    "\n",
    "\n",
    "load_dotenv()\n",
    "\n",
    "cog_endpoint = os.getenv(\"COG_SERVICE_ENDPOINT\")\n",
    "cog_key = os.getenv(\"COG_SERVICE_KEY\")\n",
    "cog_region = os.getenv(\"COG_REGION\")"
   ]
  },
  {
   "cell_type": "markdown",
   "id": "db0462fd",
   "metadata": {},
   "source": [
    "## Text to Speech\n",
    "\n",
    "Implement the following function given an input text synthesizing speech on speakers:"
   ]
  },
  {
   "cell_type": "code",
   "execution_count": null,
   "id": "8a21ec03",
   "metadata": {},
   "outputs": [],
   "source": [
    "def speech_synthesis(text: str) -> None:\n",
    "    # Instantiate Cognitive Services Speech Config `cog_key` and `cog_region`\n",
    "    speech_config = ...\n",
    "    \n",
    "    # Select the preferred synthesis voice\n",
    "    ...\n",
    "    \n",
    "    # Instantiate a Speech Synthesizer with the given config\n",
    "    speech_synthesizer = ...\n",
    "    \n",
    "    # Run the text-to-speech with the input text\n",
    "    speak = ...\n",
    "\n",
    "    if speak.reason != speech.ResultReason.SynthesizingAudioCompleted:\n",
    "        print(speak.reason)"
   ]
  },
  {
   "cell_type": "markdown",
   "id": "ac4e9483",
   "metadata": {},
   "source": [
    "Test your speech synthesis function:"
   ]
  },
  {
   "cell_type": "code",
   "execution_count": null,
   "id": "666ae375",
   "metadata": {},
   "outputs": [],
   "source": [
    "text = input(\"Text: \")\n",
    "speech_synthesis(text)"
   ]
  },
  {
   "cell_type": "markdown",
   "id": "f032f441",
   "metadata": {},
   "source": [
    "## Solution\n",
    "\n",
    "To see a potential solution, execute the following cell:"
   ]
  },
  {
   "cell_type": "code",
   "execution_count": null,
   "id": "1c541b91",
   "metadata": {},
   "outputs": [],
   "source": [
    "%load speech_synthesis_solution.py"
   ]
  }
 ],
 "metadata": {
  "kernelspec": {
   "display_name": "Python 3 (ipykernel)",
   "language": "python",
   "name": "python3"
  },
  "language_info": {
   "codemirror_mode": {
    "name": "ipython",
    "version": 3
   },
   "file_extension": ".py",
   "mimetype": "text/x-python",
   "name": "python",
   "nbconvert_exporter": "python",
   "pygments_lexer": "ipython3",
   "version": "3.8.11"
  }
 },
 "nbformat": 4,
 "nbformat_minor": 5
}
