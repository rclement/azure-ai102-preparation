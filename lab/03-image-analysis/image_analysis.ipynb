{
 "cells": [
  {
   "cell_type": "markdown",
   "id": "6160a750",
   "metadata": {},
   "source": [
    "# Image Analysis\n",
    "\n",
    "> Use Azure Cognite Service Text Analytics to extra information from images!"
   ]
  },
  {
   "cell_type": "markdown",
   "id": "5a257287",
   "metadata": {},
   "source": [
    "## Setup\n",
    "\n",
    "Import Azure specific modules and load Azure Cognitive Services configuration from environment variables:"
   ]
  },
  {
   "cell_type": "code",
   "execution_count": null,
   "id": "c48a7c94",
   "metadata": {},
   "outputs": [],
   "source": [
    "import io\n",
    "import os\n",
    "import ipywidgets as widgets\n",
    "\n",
    "from typing import Any\n",
    "from dotenv import load_dotenv\n",
    "\n",
    "# Computer Vision modules\n",
    "from azure.cognitiveservices.vision.computervision import ComputerVisionClient\n",
    "from azure.cognitiveservices.vision.computervision.models import VisualFeatureTypes\n",
    "from msrest.authentication import CognitiveServicesCredentials\n",
    "\n",
    "\n",
    "load_dotenv()\n",
    "\n",
    "cog_endpoint = os.getenv(\"COG_SERVICE_ENDPOINT\")\n",
    "cog_key = os.getenv(\"COG_SERVICE_KEY\")"
   ]
  },
  {
   "cell_type": "markdown",
   "id": "db0462fd",
   "metadata": {},
   "source": [
    "## Image Analysis\n",
    "\n",
    "Implement the following function given an image file path, returning all the detected faces data (age, gender, face rectangle coordinates):"
   ]
  },
  {
   "cell_type": "code",
   "execution_count": null,
   "id": "8a21ec03",
   "metadata": {},
   "outputs": [],
   "source": [
    "def get_faces(image_data: bytes) -> Any:\n",
    "    # Instantiate Cognitive Services credentials using `cog_key`\n",
    "    credentials = ...\n",
    "    \n",
    "    # Instantiate Computer Vision Client using `cog_endpoint` and `credentials` variables\n",
    "    client = ...\n",
    "\n",
    "    # Use a binary stream generator from the image data\n",
    "    image_stream = ...\n",
    "    \n",
    "    # Select the visual features to extract faces data\n",
    "    features = ...\n",
    "    \n",
    "    # Analyze the image stream to extract the selected features\n",
    "    analysis = ...\n",
    "    \n",
    "    # Extract faces features\n",
    "    faces = ...\n",
    "    \n",
    "    return faces"
   ]
  },
  {
   "cell_type": "markdown",
   "id": "ac4e9483",
   "metadata": {},
   "source": [
    "Test your image analysis function:"
   ]
  },
  {
   "cell_type": "code",
   "execution_count": null,
   "id": "666ae375",
   "metadata": {},
   "outputs": [],
   "source": [
    "def handle_upload(data):\n",
    "    image_data = data[\"owner\"].data[0]\n",
    "    faces = get_faces(image_data)\n",
    "    print(faces)\n",
    "\n",
    "photo_upload = widgets.FileUpload(\n",
    "    accept=\"image/*\",\n",
    "    multiple=False\n",
    ")\n",
    "photo_upload.observe(handle_upload, names=\"_counter\")\n",
    "photo_upload"
   ]
  },
  {
   "cell_type": "markdown",
   "id": "f032f441",
   "metadata": {},
   "source": [
    "## Solution\n",
    "\n",
    "To see a potential solution, execute the following cell:"
   ]
  },
  {
   "cell_type": "code",
   "execution_count": null,
   "id": "1c541b91",
   "metadata": {},
   "outputs": [],
   "source": [
    "%load image_analysis_solution.py"
   ]
  }
 ],
 "metadata": {
  "kernelspec": {
   "display_name": "Python 3 (ipykernel)",
   "language": "python",
   "name": "python3"
  },
  "language_info": {
   "codemirror_mode": {
    "name": "ipython",
    "version": 3
   },
   "file_extension": ".py",
   "mimetype": "text/x-python",
   "name": "python",
   "nbconvert_exporter": "python",
   "pygments_lexer": "ipython3",
   "version": "3.8.11"
  }
 },
 "nbformat": 4,
 "nbformat_minor": 5
}
