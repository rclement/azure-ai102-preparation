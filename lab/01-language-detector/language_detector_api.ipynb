{
 "cells": [
  {
   "cell_type": "markdown",
   "id": "0fb5617a",
   "metadata": {},
   "source": [
    "# Language Detector\n",
    "\n",
    "> API Version"
   ]
  },
  {
   "cell_type": "markdown",
   "id": "23b0e0a4",
   "metadata": {},
   "source": [
    "## Setup\n",
    "\n",
    "Import required modules:"
   ]
  },
  {
   "cell_type": "code",
   "execution_count": null,
   "id": "e9e21468",
   "metadata": {},
   "outputs": [],
   "source": [
    "import os\n",
    "import requests\n",
    "\n",
    "from typing import Tuple\n",
    "from urllib.parse import urljoin\n",
    "from dotenv import load_dotenv"
   ]
  },
  {
   "cell_type": "markdown",
   "id": "43aaec58",
   "metadata": {},
   "source": [
    "Load Azure Cognitive Services configuration from environment variables:"
   ]
  },
  {
   "cell_type": "code",
   "execution_count": null,
   "id": "833871ec",
   "metadata": {},
   "outputs": [],
   "source": [
    "load_dotenv()\n",
    "\n",
    "cog_endpoint = os.getenv(\"COG_SERVICE_ENDPOINT\")\n",
    "cog_key = os.getenv(\"COG_SERVICE_KEY\")"
   ]
  },
  {
   "cell_type": "markdown",
   "id": "0a800bff",
   "metadata": {},
   "source": [
    "## Goal\n",
    "\n",
    "Complete the following function: given an input text, return the detected language name and its associated confidence score:"
   ]
  },
  {
   "cell_type": "code",
   "execution_count": null,
   "id": "332e765e",
   "metadata": {},
   "outputs": [],
   "source": [
    "def detect_language(text: str) -> Tuple[str, float]:\n",
    "    url = urljoin(cog_endpoint, \"/text/analytics/v3.0/languages\")\n",
    "    headers = {\n",
    "        \"Ocp-Apim-Subscription-Key\": cog_key\n",
    "    }\n",
    "\n",
    "    # fill the request body parameters with the input text\n",
    "    params = ...\n",
    "\n",
    "    response = requests.post(url, headers=headers, json=params)\n",
    "    response.raise_for_status()\n",
    "    data = response.json()\n",
    "\n",
    "    # find the detected language for the document from the JSON data response\n",
    "    detected_language = ...\n",
    "    # find the language name from the detected language\n",
    "    language = ...\n",
    "    # find the language confidence score from the detected language\n",
    "    confidence = ...\n",
    "\n",
    "    return language, confidence"
   ]
  },
  {
   "cell_type": "markdown",
   "id": "8af5e8d4",
   "metadata": {},
   "source": [
    "## Usage\n",
    "\n",
    "Try out the language detection function:"
   ]
  },
  {
   "cell_type": "code",
   "execution_count": null,
   "id": "3fbabbd1",
   "metadata": {},
   "outputs": [],
   "source": [
    "text = input(\"Enter text: \")\n",
    "language, confidence = detect_language(text)\n",
    "print(f\"Detected language {language} with {confidence * 100}% confidence\")"
   ]
  },
  {
   "cell_type": "markdown",
   "id": "20fe87a4",
   "metadata": {},
   "source": [
    "## Solution\n",
    "\n",
    "To see a potential solution, execute the following cell:"
   ]
  },
  {
   "cell_type": "code",
   "execution_count": null,
   "id": "f90e4a3d",
   "metadata": {},
   "outputs": [],
   "source": [
    "%load language_detector_api_solution.py"
   ]
  }
 ],
 "metadata": {
  "kernelspec": {
   "display_name": "Python 3 (ipykernel)",
   "language": "python",
   "name": "python3"
  },
  "language_info": {
   "codemirror_mode": {
    "name": "ipython",
    "version": 3
   },
   "file_extension": ".py",
   "mimetype": "text/x-python",
   "name": "python",
   "nbconvert_exporter": "python",
   "pygments_lexer": "ipython3",
   "version": "3.8.11"
  }
 },
 "nbformat": 4,
 "nbformat_minor": 5
}
