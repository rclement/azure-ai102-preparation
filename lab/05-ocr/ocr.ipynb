{
 "cells": [
  {
   "cell_type": "markdown",
   "id": "6160a750",
   "metadata": {},
   "source": [
    "# OCR\n",
    "\n",
    "> Use Azure Cognite Service Text Analytics to build an Optical Character Recognition program!"
   ]
  },
  {
   "cell_type": "markdown",
   "id": "5a257287",
   "metadata": {},
   "source": [
    "## Setup\n",
    "\n",
    "Import Azure specific modules and load Azure Cognitive Services configuration from environment variables:"
   ]
  },
  {
   "cell_type": "code",
   "execution_count": null,
   "id": "c48a7c94",
   "metadata": {},
   "outputs": [],
   "source": [
    "import io\n",
    "import os\n",
    "import ipywidgets as widgets\n",
    "import matplotlib.pyplot as plt\n",
    "import matplotlib.patches as patches\n",
    "\n",
    "from typing import Any, Tuple\n",
    "from dotenv import load_dotenv\n",
    "from PIL import Image\n",
    "\n",
    "# Computer Vision modules\n",
    "from azure.cognitiveservices.vision.computervision import ComputerVisionClient\n",
    "from msrest.authentication import CognitiveServicesCredentials\n",
    "\n",
    "\n",
    "load_dotenv()\n",
    "\n",
    "cog_endpoint = os.getenv(\"COG_SERVICE_ENDPOINT\")\n",
    "cog_key = os.getenv(\"COG_SERVICE_KEY\")"
   ]
  },
  {
   "cell_type": "markdown",
   "id": "db0462fd",
   "metadata": {},
   "source": [
    "## Optical Character Recognition\n",
    "\n",
    "Implement the following function given an image file path, returning the detected text language and all the detected texts data (text, rectangle coordinates):"
   ]
  },
  {
   "cell_type": "code",
   "execution_count": null,
   "id": "8a21ec03",
   "metadata": {},
   "outputs": [],
   "source": [
    "def get_texts(image_data: bytes) -> Tuple[str, Any]:\n",
    "    # Instantiate Cognitive Services credentials using `cog_key`\n",
    "    credentials = CognitiveServicesCredentials(cog_key)\n",
    "\n",
    "    # Instantiate Computer Vision Client using `cog_endpoint` and `credentials` variables\n",
    "    client = ComputerVisionClient(cog_endpoint, credentials)\n",
    "\n",
    "    # Use a binary stream generator from the image data\n",
    "    image_stream = io.BytesIO(image_data)\n",
    "    \n",
    "    # Analyze the image stream to extract all printed texts\n",
    "    results = client.recognize_printed_text_in_stream(image_stream)\n",
    "\n",
    "    # Extract the detected text language\n",
    "    language = results.language\n",
    "    \n",
    "    # Extract all the detected texts data (position, text)\n",
    "    texts = [\n",
    "        dict(\n",
    "            position=tuple(map(int, r.bounding_box.split(\",\"))),\n",
    "            text=\" \".join([w.text for l in r.lines for w in l.words]),\n",
    "        )\n",
    "        for r in results.regions\n",
    "    ]\n",
    "\n",
    "    return language, texts"
   ]
  },
  {
   "cell_type": "markdown",
   "id": "ac4e9483",
   "metadata": {},
   "source": [
    "Test your OCR function:"
   ]
  },
  {
   "cell_type": "code",
   "execution_count": null,
   "id": "666ae375",
   "metadata": {},
   "outputs": [],
   "source": [
    "def annotate_image(image_data: bytes, language: str, texts: Any) -> None:\n",
    "    print(\"Detected text language:\", language)\n",
    "\n",
    "    fig, ax = plt.subplots()\n",
    "    ax.imshow(Image.open(io.BytesIO(image_data)))\n",
    "\n",
    "    for t in texts:\n",
    "        print(t[\"position\"], t[\"text\"])\n",
    "\n",
    "        box = patches.Rectangle(\n",
    "            (t[\"position\"][0], t[\"position\"][1]),\n",
    "            t[\"position\"][2],\n",
    "            t[\"position\"][3],\n",
    "            linewidth=1, edgecolor=\"r\", facecolor=\"none\",\n",
    "        )\n",
    "        ax.add_patch(box)\n",
    "        ax.annotate(\n",
    "            t[\"text\"],\n",
    "            (t[\"position\"][0], t[\"position\"][1]),\n",
    "            color=\"b\",\n",
    "        )\n",
    "\n",
    "\n",
    "def handle_upload(data):\n",
    "    image_data = data[\"owner\"].data[0]\n",
    "    language, texts = get_texts(image_data)\n",
    "    annotate_image(image_data, language, texts)\n",
    "\n",
    "\n",
    "photo_upload = widgets.FileUpload(\n",
    "    accept=\"image/*\",\n",
    "    multiple=False,\n",
    ")\n",
    "photo_upload.observe(handle_upload, names=\"_counter\")\n",
    "photo_upload"
   ]
  },
  {
   "cell_type": "markdown",
   "id": "f032f441",
   "metadata": {},
   "source": [
    "## Solution\n",
    "\n",
    "To see a potential solution, execute the following cell:"
   ]
  },
  {
   "cell_type": "code",
   "execution_count": null,
   "id": "1c541b91",
   "metadata": {},
   "outputs": [],
   "source": [
    "%load ocr_solution.py"
   ]
  }
 ],
 "metadata": {
  "kernelspec": {
   "display_name": "Python 3 (ipykernel)",
   "language": "python",
   "name": "python3"
  },
  "language_info": {
   "codemirror_mode": {
    "name": "ipython",
    "version": 3
   },
   "file_extension": ".py",
   "mimetype": "text/x-python",
   "name": "python",
   "nbconvert_exporter": "python",
   "pygments_lexer": "ipython3",
   "version": "3.8.11"
  }
 },
 "nbformat": 4,
 "nbformat_minor": 5
}
