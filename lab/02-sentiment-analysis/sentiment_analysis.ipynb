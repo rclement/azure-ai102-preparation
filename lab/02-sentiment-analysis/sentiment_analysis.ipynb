{
 "cells": [
  {
   "cell_type": "markdown",
   "id": "6160a750",
   "metadata": {},
   "source": [
    "# Sentiment Analysis\n",
    "\n",
    "> Use Azure Cognite Service Text Analytics to analyze the sentiment of text!"
   ]
  },
  {
   "cell_type": "markdown",
   "id": "5a257287",
   "metadata": {},
   "source": [
    "## Setup\n",
    "\n",
    "Import Azure specific modules and load Azure Cognitive Services configuration from environment variables:"
   ]
  },
  {
   "cell_type": "code",
   "execution_count": null,
   "id": "c48a7c94",
   "metadata": {},
   "outputs": [],
   "source": [
    "import os\n",
    "\n",
    "from typing import Tuple\n",
    "from dotenv import load_dotenv\n",
    "\n",
    "# Text Analytics module\n",
    "from ... import ...\n",
    "\n",
    "# Azure Key Credentials module\n",
    "from ... import ...\n",
    "\n",
    "\n",
    "load_dotenv()\n",
    "\n",
    "cog_endpoint = os.getenv(\"COG_SERVICE_ENDPOINT\")\n",
    "cog_key = os.getenv(\"COG_SERVICE_KEY\")"
   ]
  },
  {
   "cell_type": "markdown",
   "id": "db0462fd",
   "metadata": {},
   "source": [
    "## Sentiment Analysis\n",
    "\n",
    "Implement the following function given an input text returns the detected language name, the predicted sentiment label and its confidence scores (positive, neutral and negative):"
   ]
  },
  {
   "cell_type": "code",
   "execution_count": null,
   "id": "8a21ec03",
   "metadata": {},
   "outputs": [],
   "source": [
    "def get_sentiment(text: str) -> Tuple[str, str, float, float, float]:\n",
    "    # Instantiate Azure Key Credential using `cog_key` variable\n",
    "    credential = ...\n",
    "\n",
    "    # Instantiate Text Analytics Client using `cog_endpoint` and `credential` variables\n",
    "    client = ...\n",
    "\n",
    "    # Find out the language of the text\n",
    "    results = ...\n",
    "    detected_language = ...\n",
    "\n",
    "    # Prepare documents with detected language\n",
    "    documents = ...\n",
    "\n",
    "    # Analyze the sentiment of the documents\n",
    "    results = ...\n",
    "\n",
    "    # Extract results\n",
    "    sentiment = ...\n",
    "    positive = ...\n",
    "    neutral = ...\n",
    "    negative = ...\n",
    "\n",
    "    return detected_language.name, sentiment, positive, neutral, negative"
   ]
  },
  {
   "cell_type": "markdown",
   "id": "ac4e9483",
   "metadata": {},
   "source": [
    "Test your sentiment analysis function:"
   ]
  },
  {
   "cell_type": "code",
   "execution_count": null,
   "id": "666ae375",
   "metadata": {},
   "outputs": [],
   "source": [
    "text = input(\"Text to analyze: \")\n",
    "language, sentiment, positive, neutral, negative = get_sentiment(text)\n",
    "print(f\"Detected {language} text with {sentiment} sentiment\")\n",
    "print(f\"({positive * 100}% positive, {neutral * 100}% neutral, {negative * 100}% negative)\")"
   ]
  },
  {
   "cell_type": "markdown",
   "id": "f032f441",
   "metadata": {},
   "source": [
    "## Solution\n",
    "\n",
    "To see a potential solution, execute the following cell:"
   ]
  },
  {
   "cell_type": "code",
   "execution_count": null,
   "id": "1c541b91",
   "metadata": {},
   "outputs": [],
   "source": [
    "%load sentiment_analysis_solution.py"
   ]
  }
 ],
 "metadata": {
  "kernelspec": {
   "display_name": "Python 3 (ipykernel)",
   "language": "python",
   "name": "python3"
  },
  "language_info": {
   "codemirror_mode": {
    "name": "ipython",
    "version": 3
   },
   "file_extension": ".py",
   "mimetype": "text/x-python",
   "name": "python",
   "nbconvert_exporter": "python",
   "pygments_lexer": "ipython3",
   "version": "3.8.11"
  }
 },
 "nbformat": 4,
 "nbformat_minor": 5
}
